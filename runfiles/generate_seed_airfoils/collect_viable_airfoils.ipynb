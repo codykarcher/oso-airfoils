{
 "cells": [
  {
   "cell_type": "code",
   "execution_count": null,
   "id": "4c279632",
   "metadata": {},
   "outputs": [],
   "source": [
    "from kulfan import Kulfan\n",
    "# from ada.geometry.airfoils.kulfan import Kulfan\n",
    "from ada.analysis.apis.xfoil.run import run as run_xfoil\n",
    "import os\n",
    "import numpy as np\n",
    "import json\n",
    "# from xfoil_wrapper import run as run_xfoil\n",
    "\n",
    "import matplotlib\n",
    "from matplotlib.gridspec import GridSpec\n",
    "import matplotlib.pyplot as plt\n",
    "plt.rcParams['text.usetex'] = True\n",
    "plt.rcParams.update({'font.size': 15})\n",
    "import matplotlib\n",
    "# colors = ['#0065cc', '#e69f00', '#009e73', '#d55e00', '#56b4ff', '#fca7c7', '#ede13f', '#666666', '#000000']\n",
    "colors = ['#0065cc', '#e69f00', '#009e73', '#d55e00', '#56b4ff', '#fca7c7', '#ede13f', '#000000']\n",
    "matplotlib.rcParams['axes.prop_cycle'] = matplotlib.cycler(color=colors)\n",
    "\n",
    "PATH_TO_ADA = os.environ['PATH_TO_ADA']\n",
    "\n",
    "import natsort\n",
    "\n",
    "# combined = os.listdir('./oso-airfoils/postprocessing')\n",
    "combined = os.listdir('.')\n",
    "tsh     = list(sorted([f for f in combined if os.path.isfile(f)]))\n",
    "folders = list(sorted([f for f in combined if not os.path.isfile(f) and f[0]!='.' and f[0]!='_']))"
   ]
  }
 ],
 "metadata": {
  "language_info": {
   "name": "python"
  }
 },
 "nbformat": 4,
 "nbformat_minor": 5
}
